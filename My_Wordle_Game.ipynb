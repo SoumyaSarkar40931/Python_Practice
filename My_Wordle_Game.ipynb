{
 "cells": [
  {
   "cell_type": "markdown",
   "id": "7ccecebf",
   "metadata": {},
   "source": [
    "# Rules of Wordle"
   ]
  },
  {
   "cell_type": "markdown",
   "id": "deb0a315",
   "metadata": {},
   "source": [
    "1. A six letter word has to be guessed within 6 try by the player.\n",
    "2. If the letter guessed by the player exists in the \"Word\" then player will get to know and based on that will be given below hints:\n",
    "    a) If the letter guessed is at correct position, print \"Right Place Mate!\"\n",
    "    b) If the letter guessed exists but at wrong position, print \"Great! But missed the correct position.\"\n",
    "3. After each failed try, print remaining chances."
   ]
  },
  {
   "cell_type": "code",
   "execution_count": 1,
   "id": "202cc083",
   "metadata": {},
   "outputs": [],
   "source": [
    "# Define the Number of chances\n",
    "Total_Chance=6\n",
    "word=\"WORDLE\""
   ]
  },
  {
   "cell_type": "code",
   "execution_count": 3,
   "id": "073042f2",
   "metadata": {},
   "outputs": [
    {
     "name": "stdout",
     "output_type": "stream",
     "text": [
      "Please guess the words with 6 letters only!!\n",
      "Number of chance available : 5\n"
     ]
    }
   ],
   "source": [
    "pos_notmatch=[] # Letter exists but wrong position\n",
    "pos_match=[]  #Correct positions guessed for respective try\n",
    "num_pos_match=0 # Number of correct positions guessed for respective try\n",
    "guess_count=0 #Number of guesses\n",
    "\n",
    "print(\"Guess a {} letter word within six guesses!!\".format(len(word)))\n",
    "for i in range(Total_Chance):\n",
    "    #print(\"Enter your guess no {}\".format(i))\n",
    "    Guessed_word=input(\"Enter your guess no {} :\".format(i+1))\n",
    "    print(\"-------------------------------------------------------\")\n",
    "    guess_count +=1\n",
    "    temp=Guessed_word.upper()\n",
    "    if word == temp:\n",
    "        print(\"Voila! You got the right word in guess no {}\".format(i+1))\n",
    "        break\n",
    "    else:\n",
    "        #word_list=[letter for letter in word]\n",
    "        #temp_list=[char for char in temp]\n",
    "        if len(word) != len(temp):\n",
    "            print(\"Please guess the words with {} letters only!!\".format(len(word)))\n",
    "            print(\"Number of guess available :\",Total_Chance-guess_count)\n",
    "        else:\n",
    "            for j in range(len(word)):\n",
    "                if word[j] == temp[j]:\n",
    "                    num_pos_match +=1\n",
    "                    pos_match.append(temp[j])\n",
    "                elif temp[j] in word:\n",
    "                    pos_notmatch.append(temp[j])\n",
    "\n",
    "            if len(pos_match)!=0:               \n",
    "                print(\"Great! These letters are at the same position from the final word:\", pos_match)\n",
    "                pos_match.clear()\n",
    "            if len(pos_notmatch)!=0:\n",
    "                print(\"These letters exists in the word but position mismatched: \",pos_notmatch)\n",
    "                pos_notmatch.clear()\n",
    "            if guess_count < Total_Chance:\n",
    "                print(\"Please try again\")\n",
    "                print(\"Number of guess available :\",Total_Chance-guess_count)\n",
    "            else:\n",
    "                print(\"Game Over!! Restart the game\")\n",
    "                \n",
    " "
   ]
  },
  {
   "cell_type": "code",
   "execution_count": null,
   "id": "1f0a0ef2",
   "metadata": {},
   "outputs": [],
   "source": []
  }
 ],
 "metadata": {
  "kernelspec": {
   "display_name": "Python 3 (ipykernel)",
   "language": "python",
   "name": "python3"
  },
  "language_info": {
   "codemirror_mode": {
    "name": "ipython",
    "version": 3
   },
   "file_extension": ".py",
   "mimetype": "text/x-python",
   "name": "python",
   "nbconvert_exporter": "python",
   "pygments_lexer": "ipython3",
   "version": "3.9.7"
  }
 },
 "nbformat": 4,
 "nbformat_minor": 5
}
